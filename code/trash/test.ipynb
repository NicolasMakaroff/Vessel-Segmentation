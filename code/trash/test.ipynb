{
 "cells": [
  {
   "cell_type": "code",
   "execution_count": 11,
   "metadata": {},
   "outputs": [
    {
     "name": "stdout",
     "output_type": "stream",
     "text": [
      "[[500]\n",
      " [250]]\n"
     ]
    }
   ],
   "source": [
    "import numpy as np\n",
    "pstart = [500,250]\n",
    "pstart = np.transpose(np.array([pstart]))\n",
    "print(pstart)"
   ]
  },
  {
   "cell_type": "code",
   "execution_count": 17,
   "metadata": {},
   "outputs": [],
   "source": [
    "n = 10\n",
    "sub2ind1 = lambda u: int( u[0]*n + u[1] )\n",
    "\n",
    "def fc1():\n",
    "\n",
    "    nstart = pstart.shape[1]\n",
    "    I = list( np.zeros( (nstart, 1) ) )\n",
    "    for i in np.arange(0, nstart):\n",
    "        I[i] = sub2ind1(pstart[:,i])\n",
    "\n"
   ]
  },
  {
   "cell_type": "code",
   "execution_count": 18,
   "metadata": {},
   "outputs": [
    {
     "name": "stdout",
     "output_type": "stream",
     "text": [
      "3.65 µs ± 109 ns per loop (mean ± std. dev. of 7 runs, 100000 loops each)\n"
     ]
    }
   ],
   "source": [
    "%timeit fc1()"
   ]
  },
  {
   "cell_type": "code",
   "execution_count": 23,
   "metadata": {},
   "outputs": [],
   "source": [
    "I = [sub2ind1(pstart)]"
   ]
  },
  {
   "cell_type": "code",
   "execution_count": 24,
   "metadata": {},
   "outputs": [
    {
     "name": "stdout",
     "output_type": "stream",
     "text": [
      "[5250]\n"
     ]
    }
   ],
   "source": [
    "from "
   ]
  }
 ],
 "metadata": {
  "interpreter": {
   "hash": "d9f0cdd1613f6e386cf4ebec8737f611337d6891e66cf8d03d55bcdd2ac621ce"
  },
  "kernelspec": {
   "display_name": "Python 3.8.3 64-bit ('base': conda)",
   "name": "python3"
  },
  "language_info": {
   "codemirror_mode": {
    "name": "ipython",
    "version": 3
   },
   "file_extension": ".py",
   "mimetype": "text/x-python",
   "name": "python",
   "nbconvert_exporter": "python",
   "pygments_lexer": "ipython3",
   "version": "3.8.3"
  },
  "orig_nbformat": 4
 },
 "nbformat": 4,
 "nbformat_minor": 2
}