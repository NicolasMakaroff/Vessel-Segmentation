{
 "cells": [
  {
   "cell_type": "code",
   "execution_count": 282,
   "id": "d3c58289-925a-4f47-ab61-10e23fb601fe",
   "metadata": {},
   "outputs": [],
   "source": [
    "import numpy as np\n",
    "\n",
    "def fast_marching_2D(W, x0):\n",
    "    n = W.shape[0]\n",
    "    neigh = np.array([[1,0],[-1,0],[0,1],[0,-1]])\n",
    "    boundary = lambda x: x*np.logical_and(x<=n,x>0) + (2-x) * (x<=0) + (2*n-x)*(x>n)\n",
    "    ind2sub1 = lambda k: [(k-1)%n +1, (k- (k-1)%n -1)/n +1]\n",
    "    sub2ind1 = lambda u: (u[1]-1)*n + u[0]\n",
    "    \n",
    "    Neigh = lambda k,i: sub2ind1(boundary(ind2sub1(k)+neigh[i,:]))\n",
    "\n",
    "    I = sub2ind1(x0)\n",
    "    D = np.zeros((n,n)) + np.inf\n",
    "    D[np.unravel_index(I, D.shape, 'F')] = 0\n",
    "\n",
    "    S = np.zeros((n,n))\n",
    "    S[np.unravel_index(I, S.shape, 'F')] =1\n",
    "    \n",
    "    while not np.any(I):\n",
    "        print(D)\n",
    "        if isinstance(D[np.unravel_index(I, D.shape, 'F')],float):\n",
    "            [tmp,j]=[D[np.unravel_index(I, D.shape, 'F')],0]\n",
    "            j = 0\n",
    "            i = I\n",
    "            I = []\n",
    "        \n",
    "        else:\n",
    "            [tmp,j] = [np.sort(D[np.unravel_index(I, D.shape, 'F')]),np.argsort(D[np.unravel_index(I, D.shape, 'F')])]\n",
    "\n",
    "            j = j[0]\n",
    "            i = I[j]\n",
    "            np.delete(I,j)\n",
    "        S[np.unravel_index(i, S.shape, 'F')] = -1\n",
    "\n",
    "        J = np.array([Neigh(i,0),Neigh(i,1),Neigh(i,2), Neigh(i,3)],dtype=np.int16)\n",
    "\n",
    "        #J[S[np.unravel_index(J, S.shape, 'F')]==-1] = []\n",
    "        np.delete(J,S[np.unravel_index(J, S.shape, 'F')]==-1)\n",
    "        \n",
    "        J1 = J[S[np.unravel_index(J, S.shape, 'F')]==0]\n",
    "        I = J1\n",
    "        S[np.unravel_index(J1, S.shape, 'F')]=1\n",
    "        \n",
    "        for j in J:\n",
    "            dx = np.min(D[np.unravel_index([int(Neigh(j,0)),int(Neigh(j,1))], D.shape, 'F')])\n",
    "            dy = np.min(D[np.unravel_index([int(Neigh(j,2)),int(Neigh(j,3))], D.shape, 'F')])\n",
    "            Delta = 2*W[np.unravel_index(j,W.shape,'F')] - (dx-dy)**2\n",
    "            if Delta >=0:\n",
    "                D[np.unravel_index(j, D.shape, 'F')] = (dx+dy+np.sqrt(Delta))/2\n",
    "            else:\n",
    "                D[np.unravel_index(j,D.shape,'F')] = min(dx+W[np.unravel_index(j,W.shape,'F')], dy+W[np.unravel_index(j,W.shape,'F')])\n",
    "                     \n",
    "    S = np.zeros((n,n))\n",
    "\n",
    "    return D, S"
   ]
  },
  {
   "cell_type": "code",
   "execution_count": 283,
   "id": "6caca919-b323-45e3-afaf-0fb99e618486",
   "metadata": {},
   "outputs": [],
   "source": [
    "from imageio import imread\n",
    "img = imread('vessels.png')\n",
    "D,S = fast_marching_2D(img, [10,10])"
   ]
  },
  {
   "cell_type": "code",
   "execution_count": 281,
   "id": "1efca796-a5d0-4054-9441-08e132be8e16",
   "metadata": {},
   "outputs": [
    {
     "data": {
      "text/plain": [
       "<matplotlib.image.AxesImage at 0x7ff2dd7e6790>"
      ]
     },
     "execution_count": 281,
     "metadata": {},
     "output_type": "execute_result"
    },
    {
     "data": {
      "image/png": "[encoded data removed]",
      "text/plain": [
       "<Figure size 432x288 with 1 Axes>"
      ]
     },
     "metadata": {
      "needs_background": "light"
     },
     "output_type": "display_data"
    }
   ],
   "source": [
    "import matplotlib.pyplot as plt\n",
    "plt.imshow(S)"
   ]
  },
  {
   "cell_type": "code",
   "execution_count": null,
   "id": "15f8eb7a-9194-4431-a1c7-3d6f6a0b2a00",
   "metadata": {},
   "outputs": [],
   "source": []
  },
  {
   "cell_type": "code",
   "execution_count": 122,
   "id": "40179a08-5e02-4328-a9c3-1ea42b3f97ca",
   "metadata": {},
   "outputs": [],
   "source": [
    "a = np.zeros((3,3))\n",
    "inds = [1,2,3,4]\n",
    "\n",
    "a[np.unravel_index(inds, a.shape, 'F')] = 1\n",
    "#   array([1, 4, 7, 2, 5])"
   ]
  },
  {
   "cell_type": "code",
   "execution_count": 123,
   "id": "7e70e179-0ec6-4c7c-b5dd-ccea39bd186f",
   "metadata": {},
   "outputs": [
    {
     "data": {
      "text/plain": [
       "array([[0., 1., 0.],\n",
       "       [1., 1., 0.],\n",
       "       [1., 0., 0.]])"
      ]
     },
     "execution_count": 123,
     "metadata": {},
     "output_type": "execute_result"
    }
   ],
   "source": [
    "a"
   ]
  },
  {
   "cell_type": "code",
   "execution_count": 115,
   "id": "a1e6713f-2220-42d0-b48e-c3c224ea35ee",
   "metadata": {},
   "outputs": [
    {
     "data": {
      "text/plain": [
       "array([1, 2, 3, 4, 5, 6, 7, 8, 9])"
      ]
     },
     "execution_count": 115,
     "metadata": {},
     "output_type": "execute_result"
    }
   ],
   "source": [
    "a.flatten()"
   ]
  },
  {
   "cell_type": "code",
   "execution_count": null,
   "id": "b0f1b63b-e2bd-4db2-ab87-74d89843eccd",
   "metadata": {},
   "outputs": [],
   "source": []
  }
 ],
 "metadata": {
  "kernelspec": {
   "display_name": "Python 3",
   "language": "python",
   "name": "python3"
  },
  "language_info": {
   "codemirror_mode": {
    "name": "ipython",
    "version": 3
   },
   "file_extension": ".py",
   "mimetype": "text/x-python",
   "name": "python",
   "nbconvert_exporter": "python",
   "pygments_lexer": "ipython3",
   "version": "3.8.3"
  }
 },
 "nbformat": 4,
 "nbformat_minor": 5
}
