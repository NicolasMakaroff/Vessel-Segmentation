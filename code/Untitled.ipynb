{
 "cells": [
  {
   "cell_type": "code",
   "execution_count": 305,
   "id": "d3c58289-925a-4f47-ab61-10e23fb601fe",
   "metadata": {},
   "outputs": [],
   "source": [
    "import numpy as np\n",
    "\n",
    "def fast_marching_2D(W, x0):\n",
    "    n = W.shape[0]\n",
    "    neigh = np.array([[1,0],[-1,0],[0,1],[0,-1]])\n",
    "    boundary = lambda x: x*np.logical_and(x<=n,x>0) + (2-x) * (x<=0) + (2*n-x)*(x>n)\n",
    "    ind2sub1 = lambda k: [(k-1)%n +1, (k- (k-1)%n -1)/n +1]\n",
    "    sub2ind1 = lambda u: (u[1]-1)*n + u[0]\n",
    "    \n",
    "    Neigh = lambda k,i: sub2ind1(boundary(ind2sub1(k)+neigh[i,:]))\n",
    "\n",
    "    I = np.atleast_1d(sub2ind1(x0))\n",
    "\n",
    "    D = np.zeros((n,n)) + np.inf\n",
    "    D[np.unravel_index(I, D.shape, 'F')] = 0\n",
    "\n",
    "    S = np.zeros((n,n))\n",
    "    S[np.unravel_index(I, S.shape, 'F')] =1\n",
    "\n",
    "    while np.any(I):\n",
    "        if isinstance(D[np.unravel_index(I, D.shape, 'F')],float):\n",
    "            [tmp,j]=[D[np.unravel_index(I, D.shape, 'F')],0]\n",
    "            j = 0\n",
    "            i = I\n",
    "            I = np.array([])\n",
    "        \n",
    "        else:\n",
    "            [tmp,j] = [np.sort(D[np.unravel_index(I, D.shape, 'F')]),np.argsort(D[np.unravel_index(I, D.shape, 'F')])]\n",
    "\n",
    "            j = j[0]\n",
    "            i = I[j]\n",
    "            np.delete(I,j)\n",
    "        S[np.unravel_index(i, S.shape, 'F')] = -1\n",
    "\n",
    "        J = np.array([Neigh(i,0),Neigh(i,1),Neigh(i,2), Neigh(i,3)],dtype=np.int16)\n",
    "\n",
    "        #J[S[np.unravel_index(J, S.shape, 'F')]==-1] = []\n",
    "        np.delete(J,S[np.unravel_index(J, S.shape, 'F')]==-1)\n",
    "        \n",
    "        J1 = J[S[np.unravel_index(J, S.shape, 'F')]==0]\n",
    "        I = J1\n",
    "        S[np.unravel_index(J1, S.shape, 'F')]=1\n",
    "        \n",
    "        for j in J:\n",
    "            dx = np.min(D[np.unravel_index([int(Neigh(j,0)),int(Neigh(j,1))], D.shape, 'F')])\n",
    "            dy = np.min(D[np.unravel_index([int(Neigh(j,2)),int(Neigh(j,3))], D.shape, 'F')])\n",
    "            Delta = 2*W[np.unravel_index(j,W.shape,'F')] - (dx-dy)**2\n",
    "            if Delta >=0:\n",
    "                D[np.unravel_index(j, D.shape, 'F')] = (dx+dy+np.sqrt(Delta))/2\n",
    "            else:\n",
    "                D[np.unravel_index(j,D.shape,'F')] = min(dx+W[np.unravel_index(j,W.shape,'F')], dy+W[np.unravel_index(j,W.shape,'F')])\n",
    "                     \n",
    "    S = np.zeros((n,n))\n",
    "\n",
    "    return D, S"
   ]
  },
  {
   "cell_type": "code",
   "execution_count": 312,
   "id": "6caca919-b323-45e3-afaf-0fb99e618486",
   "metadata": {},
   "outputs": [
    {
     "name": "stdout",
     "output_type": "stream",
     "text": [
      "<class 'numpy.ndarray'>\n",
      "<class 'numpy.ndarray'>\n",
      "[[inf inf inf ... inf inf inf]\n",
      " [inf inf inf ... inf inf inf]\n",
      " [inf inf inf ... inf inf inf]\n",
      " ...\n",
      " [inf inf inf ... inf inf inf]\n",
      " [inf inf inf ... inf inf inf]\n",
      " [inf inf inf ... inf inf inf]]\n"
     ]
    },
    {
     "ename": "ValueError",
     "evalue": "index -10043 is out of bounds for array with size 60516",
     "output_type": "error",
     "traceback": [
      "\u001b[0;31m---------------------------------------------------------------------------\u001b[0m",
      "\u001b[0;31mValueError\u001b[0m                                Traceback (most recent call last)",
      "\u001b[0;32m<ipython-input-312-675ed5d92ba7>\u001b[0m in \u001b[0;36m<module>\u001b[0;34m\u001b[0m\n\u001b[1;32m      1\u001b[0m \u001b[0;32mfrom\u001b[0m \u001b[0mimageio\u001b[0m \u001b[0;32mimport\u001b[0m \u001b[0mimread\u001b[0m\u001b[0;34m\u001b[0m\u001b[0;34m\u001b[0m\u001b[0m\n\u001b[1;32m      2\u001b[0m \u001b[0mimg\u001b[0m \u001b[0;34m=\u001b[0m \u001b[0mimread\u001b[0m\u001b[0;34m(\u001b[0m\u001b[0;34m'vessels.png'\u001b[0m\u001b[0;34m)\u001b[0m\u001b[0;34m\u001b[0m\u001b[0;34m\u001b[0m\u001b[0m\n\u001b[0;32m----> 3\u001b[0;31m \u001b[0mD\u001b[0m\u001b[0;34m,\u001b[0m\u001b[0mS\u001b[0m \u001b[0;34m=\u001b[0m \u001b[0mfast_marching_2D\u001b[0m\u001b[0;34m(\u001b[0m\u001b[0mimg\u001b[0m\u001b[0;34m,\u001b[0m \u001b[0;34m[\u001b[0m\u001b[0;36m142\u001b[0m\u001b[0;34m,\u001b[0m\u001b[0;36m226\u001b[0m\u001b[0;34m]\u001b[0m\u001b[0;34m)\u001b[0m\u001b[0;34m\u001b[0m\u001b[0;34m\u001b[0m\u001b[0m\n\u001b[0m",
      "\u001b[0;32m<ipython-input-305-db6de268ef96>\u001b[0m in \u001b[0;36mfast_marching_2D\u001b[0;34m(W, x0)\u001b[0m\n\u001b[1;32m     37\u001b[0m \u001b[0;34m\u001b[0m\u001b[0m\n\u001b[1;32m     38\u001b[0m         \u001b[0;31m#J[S[np.unravel_index(J, S.shape, 'F')]==-1] = []\u001b[0m\u001b[0;34m\u001b[0m\u001b[0;34m\u001b[0m\u001b[0;34m\u001b[0m\u001b[0m\n\u001b[0;32m---> 39\u001b[0;31m         \u001b[0mnp\u001b[0m\u001b[0;34m.\u001b[0m\u001b[0mdelete\u001b[0m\u001b[0;34m(\u001b[0m\u001b[0mJ\u001b[0m\u001b[0;34m,\u001b[0m\u001b[0mS\u001b[0m\u001b[0;34m[\u001b[0m\u001b[0mnp\u001b[0m\u001b[0;34m.\u001b[0m\u001b[0munravel_index\u001b[0m\u001b[0;34m(\u001b[0m\u001b[0mJ\u001b[0m\u001b[0;34m,\u001b[0m \u001b[0mS\u001b[0m\u001b[0;34m.\u001b[0m\u001b[0mshape\u001b[0m\u001b[0;34m,\u001b[0m \u001b[0;34m'F'\u001b[0m\u001b[0;34m)\u001b[0m\u001b[0;34m]\u001b[0m\u001b[0;34m==\u001b[0m\u001b[0;34m-\u001b[0m\u001b[0;36m1\u001b[0m\u001b[0;34m)\u001b[0m\u001b[0;34m\u001b[0m\u001b[0;34m\u001b[0m\u001b[0m\n\u001b[0m\u001b[1;32m     40\u001b[0m \u001b[0;34m\u001b[0m\u001b[0m\n\u001b[1;32m     41\u001b[0m         \u001b[0mJ1\u001b[0m \u001b[0;34m=\u001b[0m \u001b[0mJ\u001b[0m\u001b[0;34m[\u001b[0m\u001b[0mS\u001b[0m\u001b[0;34m[\u001b[0m\u001b[0mnp\u001b[0m\u001b[0;34m.\u001b[0m\u001b[0munravel_index\u001b[0m\u001b[0;34m(\u001b[0m\u001b[0mJ\u001b[0m\u001b[0;34m,\u001b[0m \u001b[0mS\u001b[0m\u001b[0;34m.\u001b[0m\u001b[0mshape\u001b[0m\u001b[0;34m,\u001b[0m \u001b[0;34m'F'\u001b[0m\u001b[0;34m)\u001b[0m\u001b[0;34m]\u001b[0m\u001b[0;34m==\u001b[0m\u001b[0;36m0\u001b[0m\u001b[0;34m]\u001b[0m\u001b[0;34m\u001b[0m\u001b[0;34m\u001b[0m\u001b[0m\n",
      "\u001b[0;32m<__array_function__ internals>\u001b[0m in \u001b[0;36munravel_index\u001b[0;34m(*args, **kwargs)\u001b[0m\n",
      "\u001b[0;31mValueError\u001b[0m: index -10043 is out of bounds for array with size 60516"
     ]
    }
   ],
   "source": [
    "from imageio import imread\n",
    "img = imread('vessels.png')\n",
    "D,S = fast_marching_2D(img, [142,226])"
   ]
  },
  {
   "cell_type": "code",
   "execution_count": 309,
   "id": "1efca796-a5d0-4054-9441-08e132be8e16",
   "metadata": {},
   "outputs": [
    {
     "name": "stdout",
     "output_type": "stream",
     "text": [
      "[[inf inf inf ... inf inf inf]\n",
      " [inf inf inf ... inf inf inf]\n",
      " [inf inf inf ... inf inf inf]\n",
      " ...\n",
      " [inf inf inf ... inf inf inf]\n",
      " [inf inf inf ... inf inf inf]\n",
      " [inf inf inf ... inf inf inf]]\n"
     ]
    }
   ],
   "source": [
    "import matplotlib.pyplot as plt\n",
    "print(D)"
   ]
  },
  {
   "cell_type": "code",
   "execution_count": null,
   "id": "15f8eb7a-9194-4431-a1c7-3d6f6a0b2a00",
   "metadata": {},
   "outputs": [],
   "source": []
  },
  {
   "cell_type": "code",
   "execution_count": 122,
   "id": "40179a08-5e02-4328-a9c3-1ea42b3f97ca",
   "metadata": {},
   "outputs": [],
   "source": [
    "a = np.zeros((3,3))\n",
    "inds = [1,2,3,4]\n",
    "\n",
    "a[np.unravel_index(inds, a.shape, 'F')] = 1\n",
    "#   array([1, 4, 7, 2, 5])"
   ]
  },
  {
   "cell_type": "code",
   "execution_count": 123,
   "id": "7e70e179-0ec6-4c7c-b5dd-ccea39bd186f",
   "metadata": {},
   "outputs": [
    {
     "data": {
      "text/plain": [
       "array([[0., 1., 0.],\n",
       "       [1., 1., 0.],\n",
       "       [1., 0., 0.]])"
      ]
     },
     "execution_count": 123,
     "metadata": {},
     "output_type": "execute_result"
    }
   ],
   "source": [
    "a"
   ]
  },
  {
   "cell_type": "code",
   "execution_count": 115,
   "id": "a1e6713f-2220-42d0-b48e-c3c224ea35ee",
   "metadata": {},
   "outputs": [
    {
     "data": {
      "text/plain": [
       "array([1, 2, 3, 4, 5, 6, 7, 8, 9])"
      ]
     },
     "execution_count": 115,
     "metadata": {},
     "output_type": "execute_result"
    }
   ],
   "source": [
    "a.flatten()"
   ]
  },
  {
   "cell_type": "code",
   "execution_count": 311,
   "id": "b0f1b63b-e2bd-4db2-ab87-74d89843eccd",
   "metadata": {},
   "outputs": [
    {
     "data": {
      "text/plain": [
       "True"
      ]
     },
     "execution_count": 311,
     "metadata": {},
     "output_type": "execute_result"
    }
   ],
   "source": [
    "np.any(a)"
   ]
  },
  {
   "cell_type": "code",
   "execution_count": null,
   "id": "51252135-4815-4dab-86c8-5c2e0e454da9",
   "metadata": {},
   "outputs": [],
   "source": []
  }
 ],
 "metadata": {
  "kernelspec": {
   "display_name": "Python 3",
   "language": "python",
   "name": "python3"
  },
  "language_info": {
   "codemirror_mode": {
    "name": "ipython",
    "version": 3
   },
   "file_extension": ".py",
   "mimetype": "text/x-python",
   "name": "python",
   "nbconvert_exporter": "python",
   "pygments_lexer": "ipython3",
   "version": "3.8.3"
  }
 },
 "nbformat": 4,
 "nbformat_minor": 5
}
